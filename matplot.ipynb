{
 "cells": [
  {
   "cell_type": "code",
   "execution_count": 1,
   "metadata": {},
   "outputs": [
    {
     "name": "stdout",
     "output_type": "stream",
     "text": [
      "['0', '1', '2', '3', '4', '5', '6', '7', '8', '9', '10', '11']\n"
     ]
    },
    {
     "data": {
      "application/vnd.jupyter.widget-view+json": {
       "model_id": "5e49f24af7e34eb2bd8a8c5c3efdcbd6",
       "version_major": 2,
       "version_minor": 0
      },
      "text/plain": [
       "interactive(children=(Dropdown(description='number_of_days', options=('0', '1', '2', '3', '4', '5', '6', '7', …"
      ]
     },
     "metadata": {},
     "output_type": "display_data"
    },
    {
     "data": {
      "text/plain": [
       "<function __main__.select_days(number_of_days)>"
      ]
     },
     "execution_count": 1,
     "metadata": {},
     "output_type": "execute_result"
    }
   ],
   "source": [
    "import numpy as np\n",
    "import pandas as pd\n",
    "from ipywidgets import interact\n",
    "%matplotlib notebook\n",
    "\n",
    "categories=('A','B','C')\n",
    "\n",
    "data = {\n",
    "            'days':      np.random.randint(12, size=100), \n",
    "            'category':  np.random.choice(categories, 100),\n",
    "            'value':     100.0 * np.random.random_sample(100)\n",
    "       }\n",
    "\n",
    "df = pd.DataFrame(data)\n",
    "\n",
    "def select_days(number_of_days):\n",
    "    a = int(number_of_days)\n",
    "    print(a)\n",
    "    df_filtered= df.loc[df['days'] == int(number_of_days)] \n",
    "    ax = df_filtered[[\"category\", \"value\"]].boxplot( by=\"category\", return_type='axes')\n",
    "    ax[\"value\"].set_title(\"Day \" + number_of_days)\n",
    "    print (df_filtered)\n",
    "\n",
    "days = [str(day) for day in np.arange(12)]\n",
    "print(days)\n",
    "\n",
    "interact(select_days, number_of_days=days)"
   ]
  },
  {
   "cell_type": "code",
   "execution_count": null,
   "metadata": {},
   "outputs": [],
   "source": []
  }
 ],
 "metadata": {
  "kernelspec": {
   "display_name": "Python 3",
   "language": "python",
   "name": "python3"
  },
  "language_info": {
   "codemirror_mode": {
    "name": "ipython",
    "version": 3
   },
   "file_extension": ".py",
   "mimetype": "text/x-python",
   "name": "python",
   "nbconvert_exporter": "python",
   "pygments_lexer": "ipython3",
   "version": "3.7.3"
  }
 },
 "nbformat": 4,
 "nbformat_minor": 2
}
